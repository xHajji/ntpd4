{
 "cells": [
  {
   "cell_type": "markdown",
   "id": "2ce9ff6a-9bd4-41c6-9c8c-cf32b49d7938",
   "metadata": {},
   "source": [
    "Laboratorium 4:  Docker i konteneryzacja modelu ML"
   ]
  },
  {
   "cell_type": "code",
   "execution_count": 1,
   "id": "3b46a257-9eab-4f96-9ed1-982a7bd34847",
   "metadata": {},
   "outputs": [
    {
     "name": "stdout",
     "output_type": "stream",
     "text": [
      "Overwriting requirements.txt\n"
     ]
    }
   ],
   "source": [
    "%%writefile requirements.txt\n",
    "flask\n",
    "numpy\n",
    "scikit-learn\n",
    "gunicorn"
   ]
  },
  {
   "cell_type": "code",
   "execution_count": 2,
   "id": "69d01885-3c03-4135-aaa7-cab8ed727bf9",
   "metadata": {},
   "outputs": [
    {
     "name": "stdout",
     "output_type": "stream",
     "text": [
      "Overwriting C:\\Users\\Kubzz\\Desktop\\pbs\\s6\\ntpd\\4\\Dockerfile\n"
     ]
    }
   ],
   "source": [
    "%%writefile C:\\Users\\Kubzz\\Desktop\\pbs\\s6\\ntpd\\4\\Dockerfile\n",
    "#Użycie lekkiego obrazu Pythona\n",
    "FROM python:3.9-slim\n",
    "\n",
    "#Ustawienie katalogu roboczego\n",
    "WORKDIR /app\n",
    "\n",
    "#Kopiowanie plików aplikacji\n",
    "COPY . /app\n",
    "\n",
    "#Instalacja zależności\n",
    "RUN pip install --no-cache-dir -r requirements.txt\n",
    "\n",
    "#Wystawienie portu\n",
    "EXPOSE 5000\n",
    "\n",
    "#Uruchomienie serwera Gunicorn\n",
    "CMD [\"gunicorn\", \"-w\", \"4\", \"-b\", \"0.0.0.0:5000\", \"app:app\"]"
   ]
  },
  {
   "cell_type": "code",
   "execution_count": 3,
   "id": "e1b436bb-3826-4484-8b5b-1128387655ca",
   "metadata": {},
   "outputs": [
    {
     "name": "stdout",
     "output_type": "stream",
     "text": [
      "Overwriting C:\\Users\\Kubzz\\Desktop\\pbs\\s6\\ntpd\\4\\app.py\n"
     ]
    }
   ],
   "source": [
    "%%writefile C:\\Users\\Kubzz\\Desktop\\pbs\\s6\\ntpd\\4\\app.py\n",
    "from flask import Flask, request, jsonify\n",
    "import numpy as np\n",
    "from sklearn.linear_model import LinearRegression\n",
    "\n",
    "app = Flask(__name__)\n",
    "\n",
    "# Przykładowe dane do trenowania modelu ML\n",
    "X = np.array([[1], [2], [3], [4], [5]])\n",
    "y = np.array([2, 4, 6, 8, 10])\n",
    "model = LinearRegression().fit(X, y)\n",
    "\n",
    "@app.route(\"/\", methods=[\"GET\"])\n",
    "def home():\n",
    "    return jsonify({\"message\": \"hello world\"})\n",
    "\n",
    "@app.route(\"/predict\", methods=[\"POST\"])\n",
    "def predict():\n",
    "    data = request.get_json()\n",
    "    if \"input\" not in data:\n",
    "        return jsonify({\"error\": \"Brak wymaganej wartosci\"}), 400\n",
    "    try:\n",
    "        input_value = np.array([[data[\"input\"]]])\n",
    "        prediction = model.predict(input_value).tolist()\n",
    "        return jsonify({\"prediction\": prediction})\n",
    "    except Exception as e:\n",
    "        return jsonify({\"error\": str(e)}), 400\n",
    "\n",
    "if __name__ == \"__main__\":\n",
    "    app.run(host=\"0.0.0.0\", port=5000)"
   ]
  },
  {
   "cell_type": "code",
   "execution_count": 4,
   "id": "678a1a58-a6a4-4ff2-9664-349cdabefa01",
   "metadata": {},
   "outputs": [
    {
     "name": "stderr",
     "output_type": "stream",
     "text": [
      "  % Total    % Received % Xferd  Average Speed   Time    Time     Time  Current\n",
      "                                 Dload  Upload   Total   Spent    Left  Speed\n",
      "\n",
      "  0     0    0     0    0     0      0      0 --:--:-- --:--:-- --:--:--     0\n",
      "  0     0    0     0    0     0      0      0 --:--:-- --:--:-- --:--:--     0\n",
      "curl: (52) Empty reply from server\n"
     ]
    }
   ],
   "source": [
    "!curl http://localhost:5000"
   ]
  },
  {
   "cell_type": "code",
   "execution_count": 5,
   "id": "fa0be041-6012-4be9-ac9d-17140694beec",
   "metadata": {},
   "outputs": [
    {
     "name": "stderr",
     "output_type": "stream",
     "text": [
      "  % Total    % Received % Xferd  Average Speed   Time    Time     Time  Current\n",
      "                                 Dload  Upload   Total   Spent    Left  Speed\n",
      "\n",
      "  0     0    0     0    0     0      0      0 --:--:-- --:--:-- --:--:--     0\n",
      "100    12    0     0  100    12      0   2450 --:--:-- --:--:-- --:--:--  3000\n",
      "curl: (52) Empty reply from server\n"
     ]
    }
   ],
   "source": [
    "!curl -X POST http://localhost:5000/predict -H \"Content-Type: application/json\" -d \"{\\\"input\\\": 5}\""
   ]
  },
  {
   "cell_type": "code",
   "execution_count": 6,
   "id": "afb5ed17-96ba-44c9-9e46-db7f5d2e5b36",
   "metadata": {},
   "outputs": [
    {
     "name": "stdout",
     "output_type": "stream",
     "text": [
      "Collecting redis"
     ]
    },
    {
     "name": "stderr",
     "output_type": "stream",
     "text": [
      "\n",
      "[notice] A new release of pip is available: 24.0 -> 25.0.1\n",
      "[notice] To update, run: python.exe -m pip install --upgrade pip\n"
     ]
    },
    {
     "name": "stdout",
     "output_type": "stream",
     "text": [
      "\n",
      "  Downloading redis-5.2.1-py3-none-any.whl.metadata (9.1 kB)\n",
      "Downloading redis-5.2.1-py3-none-any.whl (261 kB)\n",
      "   ---------------------------------------- 0.0/261.5 kB ? eta -:--:--\n",
      "   - -------------------------------------- 10.2/261.5 kB ? eta -:--:--\n",
      "   ------ -------------------------------- 41.0/261.5 kB 653.6 kB/s eta 0:00:01\n",
      "   -------------------------- ------------- 174.1/261.5 kB 1.7 MB/s eta 0:00:01\n",
      "   ---------------------------------------- 261.5/261.5 kB 2.0 MB/s eta 0:00:00\n",
      "Installing collected packages: redis\n",
      "Successfully installed redis-5.2.1\n"
     ]
    }
   ],
   "source": [
    "!pip install redis"
   ]
  },
  {
   "cell_type": "code",
   "execution_count": 7,
   "id": "892ec165-8796-4ca3-8a82-f092aaaf1afe",
   "metadata": {},
   "outputs": [
    {
     "name": "stdout",
     "output_type": "stream",
     "text": [
      "Overwriting C:\\Users\\Kubzz\\Desktop\\pbs\\s6\\ntpd\\4\\app.py\n"
     ]
    }
   ],
   "source": [
    "%%writefile C:\\Users\\Kubzz\\Desktop\\pbs\\s6\\ntpd\\4\\app.py\n",
    "from flask import Flask, request, jsonify\n",
    "import numpy as np\n",
    "import redis\n",
    "from sklearn.linear_model import LinearRegression\n",
    "\n",
    "app = Flask(__name__)\n",
    "\n",
    "# Połączenie z Redis (host \"redis\" zamiast \"localhost\", bo Docker używa nazw kontenerów)\n",
    "redis_client = redis.Redis(host=\"redis\", port=6379, decode_responses=True)\n",
    "\n",
    "# Przykładowe dane do trenowania modelu ML\n",
    "X = np.array([[1], [2], [3], [4], [5]])\n",
    "y = np.array([2, 4, 6, 8, 10])\n",
    "model = LinearRegression().fit(X, y)\n",
    "\n",
    "@app.route(\"/\", methods=[\"GET\"])\n",
    "def home():\n",
    "    return jsonify({\"message\": \"hello world\"})\n",
    "\n",
    "@app.route(\"/predict\", methods=[\"POST\"])\n",
    "def predict():\n",
    "    data = request.get_json()\n",
    "    if \"input\" not in data:\n",
    "        return jsonify({\"error\": \"Brak wymaganej wartosci\"}), 400\n",
    "    try:\n",
    "        input_value = np.array([[data[\"input\"]]])\n",
    "        prediction = model.predict(input_value).tolist()\n",
    "\n",
    "        # Zapis wyniku do Redis\n",
    "        redis_client.set(\"last_prediction\", prediction[0])\n",
    "\n",
    "        return jsonify({\"prediction\": prediction})\n",
    "    except Exception as e:\n",
    "        return jsonify({\"error\": str(e)}), 400\n",
    "\n",
    "@app.route(\"/last\", methods=[\"GET\"])\n",
    "def last_prediction():\n",
    "    \"\"\" Pobiera ostatnią predykcję z Redis \"\"\"\n",
    "    last_pred = redis_client.get(\"last_prediction\")\n",
    "    if last_pred is None:\n",
    "        return jsonify({\"error\": \"Brak zapisanej predykcji\"}), 404\n",
    "    return jsonify({\"last_prediction\": float(last_pred)})\n",
    "\n",
    "if __name__ == \"__main__\":\n",
    "    app.run(host=\"0.0.0.0\", port=5000)"
   ]
  },
  {
   "cell_type": "code",
   "execution_count": 8,
   "id": "17cf9a47-50e1-4a53-9c8f-f84331a960b2",
   "metadata": {},
   "outputs": [
    {
     "name": "stderr",
     "output_type": "stream",
     "text": [
      "  % Total    % Received % Xferd  Average Speed   Time    Time     Time  Current\n",
      "                                 Dload  Upload   Total   Spent    Left  Speed\n",
      "\n",
      "  0     0    0     0    0     0      0      0 --:--:-- --:--:-- --:--:--     0\n",
      "  0     0    0     0    0     0      0      0 --:--:-- --:--:-- --:--:--     0\n",
      "curl: (52) Empty reply from server\n"
     ]
    }
   ],
   "source": [
    "!curl http://localhost:5000/"
   ]
  },
  {
   "cell_type": "code",
   "execution_count": 9,
   "id": "5f884fcb-77d8-4393-b0e8-32ee9f578393",
   "metadata": {},
   "outputs": [
    {
     "name": "stderr",
     "output_type": "stream",
     "text": [
      "  % Total    % Received % Xferd  Average Speed   Time    Time     Time  Current\n",
      "                                 Dload  Upload   Total   Spent    Left  Speed\n",
      "\n",
      "  0     0    0     0    0     0      0      0 --:--:-- --:--:-- --:--:--     0\n",
      "100    12    0     0  100    12      0   2681 --:--:-- --:--:-- --:--:--  3000\n",
      "curl: (52) Empty reply from server\n"
     ]
    }
   ],
   "source": [
    "!curl -X POST http://localhost:5000/predict -H \"Content-Type: application/json\" -d \"{\\\"input\\\": 5}\""
   ]
  },
  {
   "cell_type": "code",
   "execution_count": 10,
   "id": "eb556c8d-383b-4178-a1e7-ab2c604de341",
   "metadata": {},
   "outputs": [
    {
     "name": "stderr",
     "output_type": "stream",
     "text": [
      "  % Total    % Received % Xferd  Average Speed   Time    Time     Time  Current\n",
      "                                 Dload  Upload   Total   Spent    Left  Speed\n",
      "\n",
      "  0     0    0     0    0     0      0      0 --:--:-- --:--:-- --:--:--     0\n",
      "  0     0    0     0    0     0      0      0 --:--:-- --:--:-- --:--:--     0\n",
      "curl: (52) Empty reply from server\n"
     ]
    }
   ],
   "source": [
    "!curl http://localhost:5000/last"
   ]
  },
  {
   "cell_type": "code",
   "execution_count": null,
   "id": "6e829c07-a81a-4a63-9cf6-04a838d667fc",
   "metadata": {},
   "outputs": [],
   "source": []
  }
 ],
 "metadata": {
  "kernelspec": {
   "display_name": "Python 3",
   "language": "python",
   "name": "python3"
  },
  "language_info": {
   "codemirror_mode": {
    "name": "ipython",
    "version": 3
   },
   "file_extension": ".py",
   "mimetype": "text/x-python",
   "name": "python",
   "nbconvert_exporter": "python",
   "pygments_lexer": "ipython3",
   "version": "3.12.4"
  }
 },
 "nbformat": 4,
 "nbformat_minor": 5
}
